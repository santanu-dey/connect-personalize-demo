{
 "cells": [
  {
   "cell_type": "markdown",
   "metadata": {},
   "source": [
    "## Organize Python imports"
   ]
  },
  {
   "cell_type": "code",
   "execution_count": 51,
   "metadata": {},
   "outputs": [],
   "source": [
    "import boto3\n",
    "import json\n",
    "import time\n",
    "personalize = boto3.client('personalize')"
   ]
  },
  {
   "cell_type": "markdown",
   "metadata": {},
   "source": [
    "## Construct the ARN (Amazon Resource Name) of the resources to be deleted"
   ]
  },
  {
   "cell_type": "code",
   "execution_count": 52,
   "metadata": {},
   "outputs": [
    {
     "name": "stdout",
     "output_type": "stream",
     "text": [
      "us-west-2\n"
     ]
    }
   ],
   "source": [
    "aws_account_id = boto3.client(\"sts\").get_caller_identity()['Account']\n",
    "my_session = boto3.session.Session()\n",
    "current_region = my_session.region_name\n",
    "print(current_region)"
   ]
  },
  {
   "cell_type": "code",
   "execution_count": 53,
   "metadata": {},
   "outputs": [],
   "source": [
    "# Get the random prefix generated & saved in the training notebook\n",
    "%store -r\n",
    "\n",
    "#construct the resource identifiers\n",
    "campaign_arn='arn:aws:personalize:'+current_region+':'+aws_account_id+':campaign/predict-ci-user-personalization-'+random_suffix\n",
    "solution_arn= 'arn:aws:personalize:'+current_region+':'+aws_account_id+':solution/predict-ci-user-personalization-'+ random_suffix\n",
    "users_dataset_arn ='arn:aws:personalize:'+current_region+':'+aws_account_id+':dataset/personalize-connect-blog-dataset-'+random_suffix+'/USERS'\n",
    "interactions_dataset_arn='arn:aws:personalize:'+current_region+':'+aws_account_id+':dataset/personalize-connect-blog-dataset-'+random_suffix+'/INTERACTIONS'\n",
    "dataset_group_arn='arn:aws:personalize:'+current_region+':'+aws_account_id+':dataset-group/personalize-connect-blog-dataset-'+random_suffix\n",
    "users_schema_arn='arn:aws:personalize:'+current_region+':'+aws_account_id+':schema/personalize-connect-blog-users-schema-'+random_suffix\n",
    "interactions_schema_arn='arn:aws:personalize:'+current_region+':'+aws_account_id+':schema/personalize-connect-blog-interactions-schema-'+random_suffix\n",
    "events_schema_arn='arn:aws:personalize:'+current_region+':'+aws_account_id+':schema/personalize-connect-blog-dataset-'+random_suffix+'-event-schema'\n",
    "bucket = \"personalize-connect-blog-data-\"+random_suffix"
   ]
  },
  {
   "cell_type": "markdown",
   "metadata": {},
   "source": [
    "## Delete campaign "
   ]
  },
  {
   "cell_type": "code",
   "execution_count": 54,
   "metadata": {},
   "outputs": [
    {
     "data": {
      "text/plain": [
       "{'ResponseMetadata': {'RequestId': '68cbc4ab-4172-4072-912d-8e83de362e95',\n",
       "  'HTTPStatusCode': 200,\n",
       "  'HTTPHeaders': {'content-type': 'application/x-amz-json-1.1',\n",
       "   'date': 'Wed, 17 Nov 2021 01:57:14 GMT',\n",
       "   'x-amzn-requestid': '68cbc4ab-4172-4072-912d-8e83de362e95',\n",
       "   'content-length': '0',\n",
       "   'connection': 'keep-alive'},\n",
       "  'RetryAttempts': 0}}"
      ]
     },
     "execution_count": 54,
     "metadata": {},
     "output_type": "execute_result"
    }
   ],
   "source": [
    "personalize.delete_campaign(campaignArn=campaign_arn)"
   ]
  },
  {
   "cell_type": "code",
   "execution_count": 55,
   "metadata": {},
   "outputs": [
    {
     "name": "stdout",
     "output_type": "stream",
     "text": [
      "Campaign: DELETE PENDING\n",
      "Campaign: DELETE IN_PROGRESS\n",
      "Campaign: DELETE IN_PROGRESS\n",
      "Campaign: DELETE IN_PROGRESS\n",
      "Campaign: DELETE IN_PROGRESS\n",
      "Campaign: DELETE IN_PROGRESS\n"
     ]
    }
   ],
   "source": [
    "status = None\n",
    "max_time = time.time() + 15*60 # 15 minutes\n",
    "while time.time() < max_time:\n",
    "    try:\n",
    "        describe_campaign_response = personalize.describe_campaign(\n",
    "            campaignArn = campaign_arn\n",
    "        )\n",
    "        status = describe_campaign_response[\"campaign\"][\"status\"]\n",
    "        print(\"Campaign: {}\".format(status))\n",
    "    except:\n",
    "        pass\n",
    "    \n",
    "    if status is None:\n",
    "        break\n",
    "        \n",
    "    time.sleep(60)"
   ]
  },
  {
   "cell_type": "code",
   "execution_count": 56,
   "metadata": {},
   "outputs": [
    {
     "data": {
      "text/plain": [
       "{'campaigns': [],\n",
       " 'ResponseMetadata': {'RequestId': '4b60d536-6049-45ae-8fac-f0f27303b4ea',\n",
       "  'HTTPStatusCode': 200,\n",
       "  'HTTPHeaders': {'content-type': 'application/x-amz-json-1.1',\n",
       "   'date': 'Wed, 17 Nov 2021 02:12:15 GMT',\n",
       "   'x-amzn-requestid': '4b60d536-6049-45ae-8fac-f0f27303b4ea',\n",
       "   'content-length': '16',\n",
       "   'connection': 'keep-alive'},\n",
       "  'RetryAttempts': 0}}"
      ]
     },
     "execution_count": 56,
     "metadata": {},
     "output_type": "execute_result"
    }
   ],
   "source": [
    "personalize.list_campaigns()"
   ]
  },
  {
   "cell_type": "markdown",
   "metadata": {},
   "source": [
    "## Delete solution"
   ]
  },
  {
   "cell_type": "code",
   "execution_count": 57,
   "metadata": {},
   "outputs": [
    {
     "data": {
      "text/plain": [
       "{'ResponseMetadata': {'RequestId': '1abc6af6-43c8-43ac-aa99-ae55bcf1ba66',\n",
       "  'HTTPStatusCode': 200,\n",
       "  'HTTPHeaders': {'content-type': 'application/x-amz-json-1.1',\n",
       "   'date': 'Wed, 17 Nov 2021 02:12:15 GMT',\n",
       "   'x-amzn-requestid': '1abc6af6-43c8-43ac-aa99-ae55bcf1ba66',\n",
       "   'content-length': '0',\n",
       "   'connection': 'keep-alive'},\n",
       "  'RetryAttempts': 0}}"
      ]
     },
     "execution_count": 57,
     "metadata": {},
     "output_type": "execute_result"
    }
   ],
   "source": [
    "personalize.delete_solution(solutionArn=solution_arn)"
   ]
  },
  {
   "cell_type": "code",
   "execution_count": 58,
   "metadata": {},
   "outputs": [
    {
     "name": "stdout",
     "output_type": "stream",
     "text": [
      "Solution: DELETE PENDING\n"
     ]
    }
   ],
   "source": [
    "status = None\n",
    "max_time = time.time() + 10*60 # 10 mins\n",
    "while time.time() < max_time:\n",
    "    try:\n",
    "        describe_solution_response = personalize.describe_solution(\n",
    "                    solutionArn = solution_arn\n",
    "        )\n",
    "        status = describe_solution_response[\"solution\"][\"status\"]\n",
    "        print(\"Solution: {}\".format(status))\n",
    "    except:\n",
    "        pass\n",
    "    \n",
    "    if status is None:\n",
    "        break\n",
    "        \n",
    "    time.sleep(60)"
   ]
  },
  {
   "cell_type": "code",
   "execution_count": 59,
   "metadata": {},
   "outputs": [
    {
     "data": {
      "text/plain": [
       "{'solutions': [],\n",
       " 'ResponseMetadata': {'RequestId': 'c04c61f5-4ba6-4ef1-b143-491e6c6459c7',\n",
       "  'HTTPStatusCode': 200,\n",
       "  'HTTPHeaders': {'content-type': 'application/x-amz-json-1.1',\n",
       "   'date': 'Wed, 17 Nov 2021 02:22:16 GMT',\n",
       "   'x-amzn-requestid': 'c04c61f5-4ba6-4ef1-b143-491e6c6459c7',\n",
       "   'content-length': '16',\n",
       "   'connection': 'keep-alive'},\n",
       "  'RetryAttempts': 0}}"
      ]
     },
     "execution_count": 59,
     "metadata": {},
     "output_type": "execute_result"
    }
   ],
   "source": [
    "personalize.list_solutions()"
   ]
  },
  {
   "cell_type": "markdown",
   "metadata": {},
   "source": [
    "## Delete event tracker"
   ]
  },
  {
   "cell_type": "code",
   "execution_count": 60,
   "metadata": {},
   "outputs": [],
   "source": [
    "event_tracker_arn=personalize.list_event_trackers(datasetGroupArn=dataset_group_arn)['eventTrackers'][0]['eventTrackerArn']\n",
    "personalize.delete_event_tracker(eventTrackerArn=event_tracker_arn)\n",
    "time.sleep(60)"
   ]
  },
  {
   "cell_type": "markdown",
   "metadata": {},
   "source": [
    "## Delete dataset"
   ]
  },
  {
   "cell_type": "code",
   "execution_count": 61,
   "metadata": {},
   "outputs": [
    {
     "data": {
      "text/plain": [
       "{'ResponseMetadata': {'RequestId': 'db725a30-a70b-46e8-a3d7-ade2a8712d1f',\n",
       "  'HTTPStatusCode': 200,\n",
       "  'HTTPHeaders': {'content-type': 'application/x-amz-json-1.1',\n",
       "   'date': 'Wed, 17 Nov 2021 02:23:16 GMT',\n",
       "   'x-amzn-requestid': 'db725a30-a70b-46e8-a3d7-ade2a8712d1f',\n",
       "   'content-length': '0',\n",
       "   'connection': 'keep-alive'},\n",
       "  'RetryAttempts': 0}}"
      ]
     },
     "execution_count": 61,
     "metadata": {},
     "output_type": "execute_result"
    }
   ],
   "source": [
    "personalize.delete_dataset(datasetArn=users_dataset_arn)\n",
    "personalize.delete_dataset(datasetArn=interactions_dataset_arn)"
   ]
  },
  {
   "cell_type": "code",
   "execution_count": 62,
   "metadata": {},
   "outputs": [
    {
     "name": "stdout",
     "output_type": "stream",
     "text": [
      "Users dataset: DELETE PENDING\n"
     ]
    }
   ],
   "source": [
    "status = None\n",
    "max_time = time.time() + 15*60 # 15 minutes\n",
    "while time.time() < max_time:\n",
    "    try:\n",
    "        describe_dataset_response = personalize.describe_dataset(\n",
    "            datasetArn = users_dataset_arn\n",
    "        )\n",
    "        status = describe_dataset_response[\"dataset\"][\"status\"]\n",
    "        print(\"Users dataset: {}\".format(status))\n",
    "    except:\n",
    "        pass\n",
    "    \n",
    "    if status == None:\n",
    "        break\n",
    "        \n",
    "    time.sleep(60)"
   ]
  },
  {
   "cell_type": "code",
   "execution_count": 63,
   "metadata": {},
   "outputs": [],
   "source": [
    "status = None\n",
    "max_time = time.time() + 15*60 # 15 minutes\n",
    "while time.time() < max_time:\n",
    "    try:\n",
    "        describe_dataset_response = personalize.describe_dataset(\n",
    "            datasetArn = interactionss_dataset_arn\n",
    "        )\n",
    "        status = describe_dataset_response[\"dataset\"][\"status\"]\n",
    "        print(\"Interactions dataset: {}\".format(status))\n",
    "    except:\n",
    "        pass\n",
    "    \n",
    "    if status is None:\n",
    "        break\n",
    "        \n",
    "    time.sleep(60)"
   ]
  },
  {
   "cell_type": "code",
   "execution_count": 64,
   "metadata": {},
   "outputs": [
    {
     "data": {
      "text/plain": [
       "{'datasets': [],\n",
       " 'ResponseMetadata': {'RequestId': '3bd29a49-8f35-4dd8-bd64-66a7ccfceb6f',\n",
       "  'HTTPStatusCode': 200,\n",
       "  'HTTPHeaders': {'content-type': 'application/x-amz-json-1.1',\n",
       "   'date': 'Wed, 17 Nov 2021 02:38:17 GMT',\n",
       "   'x-amzn-requestid': '3bd29a49-8f35-4dd8-bd64-66a7ccfceb6f',\n",
       "   'content-length': '15',\n",
       "   'connection': 'keep-alive'},\n",
       "  'RetryAttempts': 0}}"
      ]
     },
     "execution_count": 64,
     "metadata": {},
     "output_type": "execute_result"
    }
   ],
   "source": [
    "personalize.list_datasets()"
   ]
  },
  {
   "cell_type": "markdown",
   "metadata": {},
   "source": [
    "## Delete dataset group & schemas"
   ]
  },
  {
   "cell_type": "code",
   "execution_count": 65,
   "metadata": {},
   "outputs": [],
   "source": [
    "personalize.delete_dataset_group(datasetGroupArn=dataset_group_arn)\n",
    "time.sleep(60)"
   ]
  },
  {
   "cell_type": "code",
   "execution_count": 66,
   "metadata": {},
   "outputs": [
    {
     "data": {
      "text/plain": [
       "{'datasetGroups': [],\n",
       " 'ResponseMetadata': {'RequestId': '59ba981c-16e7-4593-a25e-d553df9fd757',\n",
       "  'HTTPStatusCode': 200,\n",
       "  'HTTPHeaders': {'content-type': 'application/x-amz-json-1.1',\n",
       "   'date': 'Wed, 17 Nov 2021 02:39:17 GMT',\n",
       "   'x-amzn-requestid': '59ba981c-16e7-4593-a25e-d553df9fd757',\n",
       "   'content-length': '20',\n",
       "   'connection': 'keep-alive'},\n",
       "  'RetryAttempts': 0}}"
      ]
     },
     "execution_count": 66,
     "metadata": {},
     "output_type": "execute_result"
    }
   ],
   "source": [
    "personalize.list_dataset_groups()"
   ]
  },
  {
   "cell_type": "code",
   "execution_count": 67,
   "metadata": {},
   "outputs": [],
   "source": [
    "personalize.delete_schema(schemaArn=users_schema_arn)\n",
    "personalize.delete_schema(schemaArn=interactions_schema_arn)\n",
    "personalize.delete_schema(schemaArn=events_schema_arn)\n",
    "time.sleep(60)"
   ]
  },
  {
   "cell_type": "code",
   "execution_count": 68,
   "metadata": {},
   "outputs": [
    {
     "data": {
      "text/plain": [
       "{'schemas': [],\n",
       " 'ResponseMetadata': {'RequestId': '17b733f2-0b8e-4c45-978d-79f7c7694c32',\n",
       "  'HTTPStatusCode': 200,\n",
       "  'HTTPHeaders': {'content-type': 'application/x-amz-json-1.1',\n",
       "   'date': 'Wed, 17 Nov 2021 02:40:17 GMT',\n",
       "   'x-amzn-requestid': '17b733f2-0b8e-4c45-978d-79f7c7694c32',\n",
       "   'content-length': '14',\n",
       "   'connection': 'keep-alive'},\n",
       "  'RetryAttempts': 0}}"
      ]
     },
     "execution_count": 68,
     "metadata": {},
     "output_type": "execute_result"
    }
   ],
   "source": [
    "personalize.list_schemas()"
   ]
  },
  {
   "cell_type": "markdown",
   "metadata": {},
   "source": [
    "## Delete S3 bucket"
   ]
  },
  {
   "cell_type": "code",
   "execution_count": 69,
   "metadata": {},
   "outputs": [
    {
     "name": "stdout",
     "output_type": "stream",
     "text": [
      "delete: s3://personalize-connect-blog-data-l0mid/INTERACTIONS.csv\n",
      "delete: s3://personalize-connect-blog-data-l0mid/USERS.csv\n",
      "remove_bucket: personalize-connect-blog-data-l0mid\n"
     ]
    }
   ],
   "source": [
    "!aws s3 rb --force s3://{bucket}"
   ]
  },
  {
   "cell_type": "markdown",
   "metadata": {},
   "source": [
    "As the bucket in question is deleted in the cell above, the list bucket command below should not succeed. "
   ]
  },
  {
   "cell_type": "code",
   "execution_count": 70,
   "metadata": {},
   "outputs": [
    {
     "name": "stdout",
     "output_type": "stream",
     "text": [
      "\r\n",
      "An error occurred (NoSuchBucket) when calling the ListObjectsV2 operation: The specified bucket does not exist\r\n"
     ]
    }
   ],
   "source": [
    "!aws s3 ls s3://{bucket}"
   ]
  },
  {
   "cell_type": "code",
   "execution_count": null,
   "metadata": {},
   "outputs": [],
   "source": []
  }
 ],
 "metadata": {
  "kernelspec": {
   "display_name": "conda_python3",
   "language": "python",
   "name": "conda_python3"
  },
  "language_info": {
   "codemirror_mode": {
    "name": "ipython",
    "version": 3
   },
   "file_extension": ".py",
   "mimetype": "text/x-python",
   "name": "python",
   "nbconvert_exporter": "python",
   "pygments_lexer": "ipython3",
   "version": "3.6.13"
  }
 },
 "nbformat": 4,
 "nbformat_minor": 4
}
